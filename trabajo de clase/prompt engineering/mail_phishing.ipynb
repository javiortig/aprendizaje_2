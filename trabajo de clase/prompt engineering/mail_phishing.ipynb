{
 "cells": [
  {
   "cell_type": "markdown",
   "metadata": {},
   "source": [
    "# Detector de Phising en correos electrónicos"
   ]
  },
  {
   "cell_type": "code",
   "execution_count": null,
   "metadata": {},
   "outputs": [],
   "source": [
    "from openai import OpenAI\n",
    "\n",
    "with open(\"./k.txt\") as f:\n",
    " api_key = f.readline()\n",
    "\n",
    "client = OpenAI(api_key=api_key)"
   ]
  },
  {
<<<<<<< HEAD
   "cell_type": "markdown",
   "metadata": {},
   "source": [
    "Definimos la función que llama a la API del LLM"
   ]
  },
  {
=======
>>>>>>> 159e34158ad46dc2ca97183e21417bcbeb5b95c1
   "cell_type": "code",
   "execution_count": 57,
   "metadata": {},
   "outputs": [],
   "source": [
    "def obtener_completion(prompt, temperatura=1, top_p=1, frequency_penalty=0.0, model=\"gpt-4o-mini\"):\n",
    "  mensaje = [{\"role\": \"user\", \"content\": prompt}]\n",
    "  respuesta = client.chat.completions.create(\n",
    "      model=model,\n",
    "      messages=mensaje,\n",
    "      temperature=temperatura,\n",
    "      top_p=top_p,\n",
    "      frequency_penalty=frequency_penalty\n",
    "  )\n",
    "  return respuesta.choices[0].message.content"
   ]
  },
  {
   "cell_type": "markdown",
   "metadata": {},
   "source": [
    "Creamos un par de emails, esperando que el primero se detecte como benigno y el segundo como malicioso"
   ]
  },
  {
   "cell_type": "code",
   "execution_count": 58,
   "metadata": {},
   "outputs": [],
   "source": [
    "emails = [\n",
    "    f\"\"\"\n",
    "Buenos días Javier.\n",
    "\n",
    "La foto sirve para incluirla en la orla.\n",
    "\n",
    "Muchas gracias, un saludo.\n",
    "\n",
    "Teresa\"\"\",\n",
    "\n",
    "f\"\"\"\"\n",
    "¡Hola!\n",
    "\n",
    "Tenemos excelentes noticias para ti. Has sido seleccionado al azar entre millones para recibir un iPhone 13 completamente GRATIS, solo por ser un cliente fiel. Para reclamar tu premio, simplemente haz clic en el enlace de abajo y sigue las instrucciones para verificar tu identidad.\n",
    "\n",
    "👉 Haz clic aquí para reclamar tu iPhone gratis ahora\n",
    "\n",
    "Pero apresúrate, este enlace solo estará activo durante las próximas 24 horas. No querrás perderte esta oportunidad única en la vida. ¡Es totalmente gratis y no tienes nada que perder!\n",
    "\n",
    "¡Esperamos que disfrutes de tu nuevo iPhone!\n",
    "\"\"\"\n",
    "]"
   ]
  },
  {
   "cell_type": "markdown",
   "metadata": {},
   "source": [
    "Probaremos con dos ajustes, un primer ajuste de temperatura alta y un prompt complejo con ejemplos. El segundo ajuste, trata de una temperatura más determinista y un prompt más sencillo."
   ]
  },
  {
   "cell_type": "code",
   "execution_count": null,
   "metadata": {},
   "outputs": [],
   "source": [
    "prompt = f\"\"\"\n",
    "Ahora te convertirás en un asistente que comprueba si un correo electrónico es malicioso (SPAM o Phishing), o es un correo benigno. Para ello, te proporciono algunos ejemplos en los\n",
    "que te proporciono un correo electrónico delimitado por ``` y la etiqueta delimitada por <>.\n",
    "\n",
    "Correo electrónico: ```Bet on MLB\n",
    "Terms and conditions apply\n",
    "\n",
    "VIP Rewards\n",
    "This email was sent to javiortioreti123@gmail.com by \n",
    "\n",
    "BetOnline | Ave. Espana & Ricardo Arias | Panama City 08234 | Panama\n",
    "\n",
    "Contact| Unsubscribe | View Online```\n",
    "Etiqueta: <malicioso>\n",
    "\n",
    "Correo electrónico: ```Gracias por tu pedido. Te mandaremos otro e-mail cuando enviemos tu(s) producto(s). La fecha estimada de entrega se indica a continuación. Visita Mis pedidos en Amazon.es para consultar el estado de tu pedido o realizar cambios.```\n",
    "Etiqueta: <malicioso>\n",
    "\n",
    "Correo electrónico: ```Hola Javier:\n",
    "\n",
    "Hay una nueva respuesta a \"Mosquitto installation error\" en tu curso \"Curso completo de Web3\"\n",
    "\n",
    "Utiliza el botón de abajo para ver la respuesta e indicar si ha sido útil. Allí encontrarás un enlace para \"dejar de seguir\" si prefieres no recibir notificaciones de respuestas futuras.```\n",
    "Etiqueta: <benigno>\n",
    "\n",
    "Correo electrónico: ```Hola Javier,\n",
    "Tu pedido que contiene Moleskine Daily Planner... está en proceso de entrega.\n",
    "Si deseas indicarnos un lugar seguro para dejar tu paquete, por favor actualiza las instrucciones de entrega visitando nuestra página Localiza tu paquete.```\n",
    "Etiqueta: <malicioso>\n",
    "\n",
    "Correo electrónico: ```Hola:\n",
    "Te informamos de que ya hemos enviado tus productos. Dado que este pedido se encuentra en proceso de envío, ya no podrás realizar ninguna modificación.\n",
    "\n",
    "Tu pedido está en camino, y, por lo tanto, ya no se puede modificar. Si deseas devolver un producto de tu pedido o gestionar otros productos, visita Mis pedidos en Amazon.es```\n",
    "Etiqueta: <benigno>\n",
    "\n",
    "Dados estos ejemplos, ahora debes contestar si el siguiente correo es malicioso o benigno. Debes responder exclusivamente proporcionando la etiqueta entre <> y nada más.\n",
    "\"\"\""
   ]
  },
  {
   "cell_type": "code",
   "execution_count": 60,
   "metadata": {},
   "outputs": [
    {
     "name": "stdout",
     "output_type": "stream",
     "text": [
      "<benigno>\n"
     ]
    }
   ],
   "source": [
    "respuesta1 = obtener_completion(prompt + f\"\"\"```{emails[0]}```\"\"\", temperatura=0.8, top_p=1, frequency_penalty=-0.5)\n",
    "print(respuesta1)"
   ]
  },
  {
   "cell_type": "code",
   "execution_count": 61,
   "metadata": {},
   "outputs": [
    {
     "name": "stdout",
     "output_type": "stream",
     "text": [
      "<malicioso>\n"
     ]
    }
   ],
   "source": [
    "respuesta2 = obtener_completion(prompt + f\"\"\"```{emails[1]}```\"\"\", temperatura=0.8, top_p=1, frequency_penalty=-0.5)\n",
    "print(respuesta2)"
   ]
  },
  {
   "cell_type": "markdown",
   "metadata": {},
   "source": [
    "El primer correo era benigno y el segundo malicioso, por lo que acertó\n",
    "Probemos con un prompt distinto, más simple y directo. Además, bajaremos la temperatura considerablemente para hacer las respuestas más deterministas:"
   ]
  },
  {
   "cell_type": "code",
   "execution_count": 62,
   "metadata": {},
   "outputs": [],
   "source": [
    "prompt = f\"\"\"\n",
    "Ahora te convertirás en un asistente que comprueba si un correo electrónico es malicioso (SPAM o Phishing), o es un correo benigno.\n",
    "Debes contestar si el siguiente correo es <malicioso> o <benigno>. Debes responder exclusivamente proporcionando la etiqueta entre <> y nada más.\n",
    "\"\"\""
   ]
  },
  {
   "cell_type": "code",
   "execution_count": 63,
   "metadata": {},
   "outputs": [
    {
     "name": "stdout",
     "output_type": "stream",
     "text": [
      "<benigno>\n"
     ]
    }
   ],
   "source": [
    "respuesta1 = obtener_completion(prompt + f\"\"\"```{emails[0]}```\"\"\", temperatura=0.2, top_p=1, frequency_penalty=-0.5)\n",
    "print(respuesta1)"
   ]
  },
  {
   "cell_type": "code",
   "execution_count": 64,
   "metadata": {},
   "outputs": [
    {
     "name": "stdout",
     "output_type": "stream",
     "text": [
      "<malicioso>\n"
     ]
    }
   ],
   "source": [
    "respuesta2 = obtener_completion(prompt + f\"\"\"```{emails[1]}```\"\"\", temperatura=0.2, top_p=1, frequency_penalty=-0.5)\n",
    "print(respuesta2)"
   ]
  }
 ],
 "metadata": {
  "kernelspec": {
   "display_name": "aprendizaje",
   "language": "python",
   "name": "python3"
  },
  "language_info": {
   "codemirror_mode": {
    "name": "ipython",
    "version": 3
   },
   "file_extension": ".py",
   "mimetype": "text/x-python",
   "name": "python",
   "nbconvert_exporter": "python",
   "pygments_lexer": "ipython3",
   "version": "3.9.21"
  }
 },
 "nbformat": 4,
 "nbformat_minor": 2
}
