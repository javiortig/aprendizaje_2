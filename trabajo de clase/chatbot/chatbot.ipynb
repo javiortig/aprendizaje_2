{
 "cells": [
  {
   "cell_type": "markdown",
   "id": "8a0ca746",
   "metadata": {},
   "source": [
    "# Chatbot para interactuar con los clientes de un restaurante"
   ]
  },
  {
   "cell_type": "code",
   "execution_count": 18,
   "id": "686448a5",
   "metadata": {},
   "outputs": [],
   "source": [
    "from openai import OpenAI\n",
    "\n",
    "with open(\"./k.txt\") as f:\n",
    " api_key = f.readline()\n",
    "\n",
    "client = OpenAI(api_key=api_key)"
   ]
  },
  {
   "cell_type": "markdown",
   "id": "e1ae0360",
   "metadata": {},
   "source": [
    "Definimos la función que llama a la API del LLM"
   ]
  },
  {
   "cell_type": "code",
   "execution_count": 19,
   "id": "f12441b9",
   "metadata": {},
   "outputs": [],
   "source": [
    "def completion(prompt, temperatura=1, top_p=1, frequency_penalty=0.0, model=\"gpt-4o-mini\"):\n",
    "  mensaje = [{\"role\": \"user\", \"content\": prompt}]\n",
    "  respuesta = client.chat.completions.create(\n",
    "      model=model,\n",
    "      messages=mensaje,\n",
    "      temperature=temperatura,\n",
    "      top_p=top_p,\n",
    "      frequency_penalty=frequency_penalty\n",
    "  )\n",
    "  return respuesta.choices[0].message.content"
   ]
  },
  {
   "cell_type": "code",
   "execution_count": null,
   "id": "3ee49641",
   "metadata": {},
   "outputs": [],
   "source": [
    "class Chatbot:\n",
    "    def __init__(self):\n",
    "        self.welcome_message = \"Bienvenido al restaurante El Puntillo. ¿En que podemos ayudarte?\"\n",
    "        self.messages =  [\n",
    "        {'role': 'system', 'content':'Eres un ChatBot ChatBot que permite interactuar con los clientes de un restaurante y recopilar los pedidos de comida que realicen para entregar a domicilio o recoger en las instalaciones. Si consideras que el usuario ha terminado con la conversación, responde exactamente con \"Gracias por confiar en nosotros\".'},\n",
    "        {'role': 'assistant', 'content': self.welcome_message}\n",
    "        ]\n",
    "\n",
    "    def completion_call(self, newPrompt, temperature=1, top_p=1, frequency_penalty=0.0, model=\"gpt-4o-mini\"):\n",
    "        # TODO: control de errores\n",
    "        answer = client.chat.completions.create(\n",
    "            model=model,\n",
    "            messages=self.messages + [{\"role\": \"user\", \"content\": newPrompt}],\n",
    "            temperature=temperature,\n",
    "            top_p=top_p,\n",
    "            frequency_penalty=frequency_penalty\n",
    "        )\n",
    "        self.messages.append({\"role\": \"user\", \"content\": newPrompt})\n",
    "        self.messages.append({\"role\": \"assistant\", \"content\": answer.choices[0].message.content})\n",
    "        return answer.choices[0].message.content\n",
    "    \n",
    "    def is_chat_ended(self):\n",
    "        return self.messages[-1][\"content\"].strip().tolower().contains(\"Gracias por confiar en nosotros\")\n",
    "    \n",
    "    def chat(self):\n",
    "        chat_is_ended = False\n",
    "        print(self.welcome_message)\n",
    "        while not chat_is_ended:\n",
    "            user_input = input()\n",
    "            self.completion_call(user_input)\n",
    "            chat_is_ended = self.is_chat_ended()\n",
    "            \n",
    "    def print_messages(self):\n",
    "        for message in self.messages:\n",
    "            print(message[\"role\"] + \": \" + message[\"content\"])"
   ]
  },
  {
   "cell_type": "code",
   "execution_count": 21,
   "id": "a2b3f04a",
   "metadata": {},
   "outputs": [],
   "source": [
    "chatbot = Chatbot()\n"
   ]
  },
  {
   "cell_type": "code",
   "execution_count": 23,
   "id": "9d52325b",
   "metadata": {},
   "outputs": [
    {
     "name": "stdout",
     "output_type": "stream",
     "text": [
      "Bienvenido al restaurante El Puntillo. ¿En que podemos ayudarte?\n"
     ]
    },
    {
     "ename": "UnboundLocalError",
     "evalue": "local variable 'input' referenced before assignment",
     "output_type": "error",
     "traceback": [
      "\u001b[1;31m---------------------------------------------------------------------------\u001b[0m",
      "\u001b[1;31mUnboundLocalError\u001b[0m                         Traceback (most recent call last)",
      "Cell \u001b[1;32mIn[23], line 1\u001b[0m\n\u001b[1;32m----> 1\u001b[0m \u001b[43mchatbot\u001b[49m\u001b[38;5;241;43m.\u001b[39;49m\u001b[43mchat\u001b[49m\u001b[43m(\u001b[49m\u001b[43m)\u001b[49m\n",
      "Cell \u001b[1;32mIn[20], line 29\u001b[0m, in \u001b[0;36mChatbot.chat\u001b[1;34m(self)\u001b[0m\n\u001b[0;32m     27\u001b[0m \u001b[38;5;28mprint\u001b[39m(\u001b[38;5;28mself\u001b[39m\u001b[38;5;241m.\u001b[39mwelcome_message)\n\u001b[0;32m     28\u001b[0m \u001b[38;5;28;01mwhile\u001b[39;00m \u001b[38;5;129;01mnot\u001b[39;00m chat_is_ended:\n\u001b[1;32m---> 29\u001b[0m     \u001b[38;5;28minput\u001b[39m \u001b[38;5;241m=\u001b[39m \u001b[38;5;28;43minput\u001b[39;49m()\n\u001b[0;32m     30\u001b[0m     \u001b[38;5;28mself\u001b[39m\u001b[38;5;241m.\u001b[39mcompletion_call(\u001b[38;5;28minput\u001b[39m)\n\u001b[0;32m     31\u001b[0m     chat_is_ended \u001b[38;5;241m=\u001b[39m \u001b[38;5;28mself\u001b[39m\u001b[38;5;241m.\u001b[39mis_chat_ended()\n",
      "\u001b[1;31mUnboundLocalError\u001b[0m: local variable 'input' referenced before assignment"
     ]
    }
   ],
   "source": [
    "chatbot.chat()"
   ]
  }
 ],
 "metadata": {
  "kernelspec": {
   "display_name": "aprendizaje",
   "language": "python",
   "name": "python3"
  },
  "language_info": {
   "codemirror_mode": {
    "name": "ipython",
    "version": 3
   },
   "file_extension": ".py",
   "mimetype": "text/x-python",
   "name": "python",
   "nbconvert_exporter": "python",
   "pygments_lexer": "ipython3",
   "version": "3.9.21"
  }
 },
 "nbformat": 4,
 "nbformat_minor": 5
}
