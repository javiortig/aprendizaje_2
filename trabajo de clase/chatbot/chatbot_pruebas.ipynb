{
 "cells": [
  {
   "cell_type": "markdown",
   "id": "8a0ca746",
   "metadata": {},
   "source": [
    "# Chatbot para interactuar con los clientes de un restaurante"
   ]
  },
  {
   "cell_type": "code",
   "execution_count": 2,
   "id": "686448a5",
   "metadata": {},
   "outputs": [],
   "source": [
    "from openai import OpenAI\n",
    "\n",
    "with open(\"./k.txt\") as f:\n",
    " api_key = f.readline()\n",
    "\n",
    "client = OpenAI(api_key=api_key)"
   ]
  },
  {
   "cell_type": "markdown",
   "id": "e1ae0360",
   "metadata": {},
   "source": [
    "Definimos la función que llama a la API del LLM"
   ]
  },
  {
   "cell_type": "code",
   "execution_count": 3,
   "id": "f12441b9",
   "metadata": {},
   "outputs": [],
   "source": [
    "def completion(prompt, temperatura=1, top_p=1, frequency_penalty=0.0, model=\"gpt-4o-mini\"):\n",
    "  mensaje = [{\"role\": \"user\", \"content\": prompt}]\n",
    "  respuesta = client.chat.completions.create(\n",
    "      model=model,\n",
    "      messages=mensaje,\n",
    "      temperature=temperatura,\n",
    "      top_p=top_p,\n",
    "      frequency_penalty=frequency_penalty\n",
    "  )\n",
    "  return respuesta.choices[0].message.content"
   ]
  },
  {
   "cell_type": "code",
   "execution_count": 4,
   "id": "3ee49641",
   "metadata": {},
   "outputs": [],
   "source": [
    "class Chatbot:\n",
    "    def __init__(self):\n",
    "        self.welcome_message = \"Bienvenido al restaurante El Puntillo. ¿En que podemos ayudarte?\"\n",
    "        self.messages =  [\n",
    "        {'role': 'system', 'content':'Eres un ChatBot ChatBot que permite interactuar con los clientes de un restaurante y recopilar los pedidos de comida que realicen para entregar a domicilio o recoger en las instalaciones. Si consideras que el usuario ha terminado con la conversación, responde exactamente con \"Gracias por confiar en nosotros\".'},\n",
    "        {'role': 'assistant', 'content': self.welcome_message}\n",
    "        ]\n",
    "\n",
    "    def completion_call(self, newPrompt, temperature=1, top_p=1, frequency_penalty=0.0, model=\"gpt-4o-mini\"):\n",
    "        # TODO: control de errores\n",
    "        answer = client.chat.completions.create(\n",
    "            model=model,\n",
    "            messages=self.messages + [{\"role\": \"user\", \"content\": newPrompt}],\n",
    "            temperature=temperature,\n",
    "            top_p=top_p,\n",
    "            frequency_penalty=frequency_penalty\n",
    "        )\n",
    "        self.messages.append({\"role\": \"user\", \"content\": newPrompt})\n",
    "        self.messages.append({\"role\": \"assistant\", \"content\": answer.choices[0].message.content})\n",
    "        return answer.choices[0].message.content\n",
    "    \n",
    "    def is_chat_ended(self):\n",
    "        return \"gracias por confiar en nosotros\" in self.messages[-1][\"content\"].strip().lower()\n",
    "    \n",
    "    def print_last_message(self):\n",
    "        print(self.messages[-1][\"content\"])\n",
    "\n",
    "    \n",
    "    def chat(self):\n",
    "        chat_is_ended = False\n",
    "        print(self.welcome_message)\n",
    "        while not chat_is_ended:\n",
    "            user_input = input()\n",
    "            print(\"//User input: \" + user_input)\n",
    "            self.completion_call(user_input)\n",
    "            print(\"//Completion call:\")\n",
    "            self.print_last_message()\n",
    "            chat_is_ended = self.is_chat_ended()\n",
    "            print(\"//Chat is ended: \" + str(chat_is_ended))\n",
    "            \n",
    "    def print_messages(self):\n",
    "        for message in self.messages:\n",
    "            print(message[\"role\"] + \": \" + message[\"content\"])"
   ]
  },
  {
   "cell_type": "code",
   "execution_count": 5,
   "id": "a2b3f04a",
   "metadata": {},
   "outputs": [],
   "source": [
    "chatbot = Chatbot()"
   ]
  },
  {
   "cell_type": "code",
   "execution_count": null,
   "id": "9d52325b",
   "metadata": {},
   "outputs": [
    {
     "name": "stdout",
     "output_type": "stream",
     "text": [
      "Bienvenido al restaurante El Puntillo. ¿En que podemos ayudarte?\n",
      "//User input: \n",
      "//Completion call:\n",
      "Parece que no has escrito nada. Si necesitas ayuda para realizar un pedido o tienes alguna pregunta, no dudes en escribirme. ¡Estoy aquí para ayudarte!\n",
      "//Chat is ended: False\n",
      "//User input: buenas tardes\n",
      "//Completion call:\n",
      "¡Buenas tardes! ¿En qué puedo ayudarte hoy? ¿Te gustaría realizar un pedido o saber más sobre nuestro menú?\n",
      "//Chat is ended: False\n",
      "//User input: \n",
      "//Completion call:\n",
      "Parece que no has escrito nada. Estoy aquí para ayudarte con tu pedido o cualquier pregunta que tengas. ¡Háblame cuando estés listo!\n",
      "//Chat is ended: False\n",
      "//User input: \n",
      "//Completion call:\n",
      "Parece que todavía no has escrito nada. Si necesitas ayuda, no dudes en escribir. Estoy aquí para atenderte.\n",
      "//Chat is ended: False\n"
     ]
    }
   ],
   "source": [
    "chatbot.chat()"
   ]
  }
 ],
 "metadata": {
  "kernelspec": {
   "display_name": "aprendizaje",
   "language": "python",
   "name": "python3"
  },
  "language_info": {
   "codemirror_mode": {
    "name": "ipython",
    "version": 3
   },
   "file_extension": ".py",
   "mimetype": "text/x-python",
   "name": "python",
   "nbconvert_exporter": "python",
   "pygments_lexer": "ipython3",
   "version": "3.9.21"
  }
 },
 "nbformat": 4,
 "nbformat_minor": 5
}
